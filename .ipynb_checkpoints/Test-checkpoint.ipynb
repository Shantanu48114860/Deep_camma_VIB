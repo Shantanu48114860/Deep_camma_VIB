{
 "cells": [
  {
   "cell_type": "code",
   "execution_count": 1,
   "metadata": {},
   "outputs": [],
   "source": [
    "do_m_model_name = \"Model/do_m_vertical_shift_0.25/deep_camma_do_m_27_04_2021_12_11_46_epochs_35.pth\""
   ]
  },
  {
   "cell_type": "code",
   "execution_count": null,
   "metadata": {},
   "outputs": [],
   "source": [
    "hyper_parameters = {\n",
    "        # \"num_epochs\": 75,\n",
    "        \"num_epochs\": num_epochs,\n",
    "        \"num_epochs_classifier\": 10,\n",
    "        \"variational_beta\": 1,\n",
    "        \"learning_rate\": 1e-3,\n",
    "        \"weight_decay\": 1e-5,\n",
    "        \"n_classes\": 10,\n",
    "        \"train_set_size\": 57000,\n",
    "        \"val_set_size\": 3000,\n",
    "        \"test_set_size\": 10000,\n",
    "        \"batch_size\": 128,\n",
    "        \"shuffle\": True,\n",
    "        \"model_save_path_clean\": \"Model/deep_camma_clean_{0}_epochs_{1}.pth\".format(dt_string, num_epochs),\n",
    "        \"model_save_path_do_m\": \"Model/deep_camma_do_m_{0}_epochs_{1}.pth\".format(dt_string, num_epochs),\n",
    "        \"classifier_save_path\": \"Model/classifier_{0}_epochs_{1}.pth\".format(dt_string, num_epochs),\n",
    "        \"dataset_path\": \"./data/MNIST\",\n",
    "\n",
    "        \"original_file_name_clean\": \"./Plots/Clean_Original_image_{0}_epochs_{1}.jpeg\".format(dt_string, num_epochs),\n",
    "        \"recons_file_name_clean\": \"./Plots/Clean_Reconstructed_image_{0}_epochs_{1}.jpeg\".format(dt_string, num_epochs),\n",
    "        \"deep_camma_generated_img_file_name_clean\": \"./Plots/Clean_Generated_image_{0}_epochs_{1}.jpeg\".format(\n",
    "            dt_string, num_epochs),\n",
    "\n",
    "        \"original_file_name_do_m\": \"./Plots/Do_m_Original_image_{0}_epochs_{1}.jpeg\".format(dt_string, num_epochs),\n",
    "        \"recons_file_name_do_m\": \"./Plots/Do_m_Reconstructed_image_{0}_epochs_{1}.jpeg\".format(dt_string, num_epochs),\n",
    "        \"deep_camma_generated_img_file_name_do_m\": \"./Plots/Do_m_Generated_image_{0}_epochs_{1}.jpeg\".format(dt_string,\n",
    "                                                                                                             num_epochs)\n",
    "    }\n",
    "\n",
    "    do_m = {\n",
    "        \"m\": 1,\n",
    "        \"degrees\": 0,\n",
    "        \"horizontal_shift\": 0,\n",
    "        \"vertical_shift\": .25\n",
    "    }\n"
   ]
  }
 ],
 "metadata": {
  "kernelspec": {
   "display_name": "Python 3",
   "language": "python",
   "name": "python3"
  },
  "language_info": {
   "codemirror_mode": {
    "name": "ipython",
    "version": 3
   },
   "file_extension": ".py",
   "mimetype": "text/x-python",
   "name": "python",
   "nbconvert_exporter": "python",
   "pygments_lexer": "ipython3",
   "version": "3.9.0"
  }
 },
 "nbformat": 4,
 "nbformat_minor": 4
}
